{
 "cells": [
  {
   "cell_type": "markdown",
   "metadata": {
    "colab_type": "text",
    "id": "t4Wlf9cbVuVg"
   },
   "source": [
    "### Importing the libraries"
   ]
  },
  {
   "cell_type": "code",
   "execution_count": 1,
   "metadata": {
    "colab": {
     "base_uri": "https://localhost:8080/",
     "height": 1000
    },
    "colab_type": "code",
    "id": "i51JaxWtgfNA",
    "outputId": "f88fb4a3-f2e1-4cd7-cfa9-72467ae0bcbf"
   },
   "outputs": [],
   "source": [
    "#pip install tensorflow==2.0.0"
   ]
  },
  {
   "cell_type": "code",
   "execution_count": 1,
   "metadata": {
    "colab": {
     "base_uri": "https://localhost:8080/",
     "height": 34
    },
    "colab_type": "code",
    "id": "VUqGpdkahka5",
    "outputId": "29fd7e4c-ab5b-4e2d-9a7b-d5287fcc25dd"
   },
   "outputs": [
    {
     "name": "stdout",
     "output_type": "stream",
     "text": [
      "The version is: 2.0.0\n"
     ]
    }
   ],
   "source": [
    "import tensorflow as tf"
   ]
  },
  {
   "cell_type": "code",
   "execution_count": 2,
   "metadata": {
    "colab": {},
    "colab_type": "code",
    "id": "VbGtBB2JYxC4"
   },
   "outputs": [],
   "source": [
    "import numpy as np\n",
    "import cv2\n",
    "import matplotlib.pyplot as plt\n",
    "import os\n",
    "\n",
    "import tensorflow as tf\n",
    "from tensorflow.keras.models import Sequential\n",
    "from tensorflow.keras.layers import Conv2D,BatchNormalization,MaxPooling2D,Flatten,Dense,Dropout"
   ]
  },
  {
   "cell_type": "code",
   "execution_count": 3,
   "metadata": {
    "colab": {
     "base_uri": "https://localhost:8080/",
     "height": 34
    },
    "colab_type": "code",
    "id": "Ap2MV-Hqbcii",
    "outputId": "0f563c54-871b-447f-dd46-7d663d9abbb7"
   },
   "outputs": [
    {
     "name": "stdout",
     "output_type": "stream",
     "text": [
      "Mounted at /content/drive\n"
     ]
    }
   ],
   "source": [
    "from google.colab import drive\n",
    "drive.mount('/content/drive')"
   ]
  },
  {
   "cell_type": "code",
   "execution_count": 4,
   "metadata": {
    "colab": {},
    "colab_type": "code",
    "id": "hEjlaxdDbebG"
   },
   "outputs": [],
   "source": [
    "# path to your dataset\n",
    "path = 'Replace the path of your dataset here'"
   ]
  },
  {
   "cell_type": "code",
   "execution_count": 5,
   "metadata": {
    "colab": {
     "base_uri": "https://localhost:8080/",
     "height": 34
    },
    "colab_type": "code",
    "id": "mhCWrLqqb0il",
    "outputId": "0b8d10a6-e848-45ed-8d46-914c45b38c1f"
   },
   "outputs": [
    {
     "data": {
      "text/plain": [
       "['without_mask', 'with_mask']"
      ]
     },
     "execution_count": 5,
     "metadata": {
      "tags": []
     },
     "output_type": "execute_result"
    }
   ],
   "source": [
    "folders = os.listdir(path)\n",
    "folders"
   ]
  },
  {
   "cell_type": "markdown",
   "metadata": {
    "colab_type": "text",
    "id": "C28zZbymVuWL"
   },
   "source": [
    "### Loading the images and labeling them"
   ]
  },
  {
   "cell_type": "code",
   "execution_count": 6,
   "metadata": {
    "colab": {
     "base_uri": "https://localhost:8080/",
     "height": 50
    },
    "colab_type": "code",
    "id": "jyWmcPENcBvm",
    "outputId": "bb34fe8f-d324-4881-c578-26a1e89c1a51",
    "scrolled": true
   },
   "outputs": [
    {
     "name": "stdout",
     "output_type": "stream",
     "text": [
      "folder_name = without_mask and no of images = 686\n",
      "folder_name = with_mask and no of images = 690\n"
     ]
    }
   ],
   "source": [
    "#initializations\n",
    "data = []\n",
    "#looping through all the folders\n",
    "for folder in folders: \n",
    "    new_path = os.path.join(path,folder)\n",
    "    total = len(os.listdir(new_path))\n",
    "    label = folders.index(folder)\n",
    "    print('folder_name = {} and no of images = {}'.format(folder,total))\n",
    "    for img in os.listdir(new_path):#loop through all the images in that folder\n",
    "    #read the images one by one\n",
    "      try:\n",
    "          img = cv2.imread( os.path.join(new_path,img),0) #grayscale\n",
    "          img = cv2.resize(img,(100,100)) #check here once\n",
    "          data.append([img,label])\n",
    "      except Exception as e:\n",
    "          print('Exception ',e)"
   ]
  },
  {
   "cell_type": "markdown",
   "metadata": {
    "colab_type": "text",
    "id": "uoiJyRbmVuWS"
   },
   "source": [
    "### Shuffling the images randomly\n",
    "* As we have loaded the images sequentially, it is better to shuffle the images randomly."
   ]
  },
  {
   "cell_type": "code",
   "execution_count": 17,
   "metadata": {
    "colab": {},
    "colab_type": "code",
    "id": "EMfgLHPI26Xa"
   },
   "outputs": [],
   "source": [
    "#shuffle the data in place\n",
    "import random\n",
    "random.shuffle(data)"
   ]
  },
  {
   "cell_type": "code",
   "execution_count": 18,
   "metadata": {
    "colab": {},
    "colab_type": "code",
    "id": "n6i1MCp13HIF"
   },
   "outputs": [],
   "source": [
    "#seperating images are labels after shuffling\n",
    "images = []\n",
    "labels = []\n",
    "for image,label in data:\n",
    "    images.append(image)\n",
    "    labels.append(label)"
   ]
  },
  {
   "cell_type": "code",
   "execution_count": 19,
   "metadata": {
    "colab": {},
    "colab_type": "code",
    "id": "C9HrLjstfsKn"
   },
   "outputs": [],
   "source": [
    "#normalizing the images \n",
    "images = np.array(images)/255\n",
    "labels = np.array(labels)"
   ]
  },
  {
   "cell_type": "code",
   "execution_count": 20,
   "metadata": {
    "colab": {
     "base_uri": "https://localhost:8080/",
     "height": 34
    },
    "colab_type": "code",
    "id": "RnQYKdgcj6q7",
    "outputId": "5358b5e3-b8e5-4a8b-f1ea-2e280b267699"
   },
   "outputs": [
    {
     "data": {
      "text/plain": [
       "(1376, 100, 100)"
      ]
     },
     "execution_count": 20,
     "metadata": {
      "tags": []
     },
     "output_type": "execute_result"
    }
   ],
   "source": [
    "images.shape"
   ]
  },
  {
   "cell_type": "code",
   "execution_count": 21,
   "metadata": {
    "colab": {},
    "colab_type": "code",
    "id": "oq8bQAIvj8gX"
   },
   "outputs": [],
   "source": [
    "#converting to 4D \n",
    "images = np.expand_dims(images,axis = 3)"
   ]
  },
  {
   "cell_type": "code",
   "execution_count": 22,
   "metadata": {
    "colab": {
     "base_uri": "https://localhost:8080/",
     "height": 34
    },
    "colab_type": "code",
    "id": "btdKMMHLkz3Q",
    "outputId": "d40c7632-67bb-44a3-ed52-a870a4c78578"
   },
   "outputs": [
    {
     "data": {
      "text/plain": [
       "(1376, 100, 100, 1)"
      ]
     },
     "execution_count": 22,
     "metadata": {
      "tags": []
     },
     "output_type": "execute_result"
    }
   ],
   "source": [
    "images.shape"
   ]
  },
  {
   "cell_type": "code",
   "execution_count": 23,
   "metadata": {
    "colab": {},
    "colab_type": "code",
    "id": "igPy8W4cpN6b"
   },
   "outputs": [],
   "source": [
    "# seperating train and test dataset\n",
    "from sklearn.model_selection import train_test_split\n",
    "X_train,X_test,y_train,y_test = train_test_split(images,labels,test_size = 0.1,random_state = 0)"
   ]
  },
  {
   "cell_type": "markdown",
   "metadata": {
    "colab_type": "text",
    "id": "Xg34VpxQVuXY"
   },
   "source": [
    "### Model Building"
   ]
  },
  {
   "cell_type": "code",
   "execution_count": 24,
   "metadata": {
    "colab": {},
    "colab_type": "code",
    "id": "2vh1fy3zm9SE"
   },
   "outputs": [],
   "source": [
    "#initializing the model\n",
    "model=Sequential()\n",
    "\n",
    "#The first CNN layer followed by Relu and MaxPooling layers\n",
    "model.add(Conv2D(200,(3,3),activation = 'relu',input_shape=images.shape[1:]))\n",
    "model.add(MaxPooling2D())\n",
    "\n",
    "#The second convolution layer followed by Relu and MaxPooling layers\n",
    "model.add(Conv2D(100,(3,3),activation = 'relu'))\n",
    "model.add(MaxPooling2D())\n",
    "\n",
    "#Flattening \n",
    "model.add(Flatten())\n",
    "\n",
    "#Adding dropout to avoid overfitting\n",
    "model.add(Dropout(0.5))\n",
    "\n",
    "#Dense Layer of 50 neurons\n",
    "model.add(Dense(50,activation='relu'))\n",
    "\n",
    "#Output layer\n",
    "model.add(Dense(1,activation='sigmoid'))"
   ]
  },
  {
   "cell_type": "code",
   "execution_count": 25,
   "metadata": {
    "colab": {
     "base_uri": "https://localhost:8080/",
     "height": 420
    },
    "colab_type": "code",
    "id": "SGxi8dcIn-b-",
    "outputId": "53d38c23-fc9f-4be5-ae01-8a545ccc9615"
   },
   "outputs": [
    {
     "name": "stdout",
     "output_type": "stream",
     "text": [
      "Model: \"sequential_1\"\n",
      "_________________________________________________________________\n",
      "Layer (type)                 Output Shape              Param #   \n",
      "=================================================================\n",
      "conv2d_2 (Conv2D)            (None, 98, 98, 200)       2000      \n",
      "_________________________________________________________________\n",
      "max_pooling2d_2 (MaxPooling2 (None, 49, 49, 200)       0         \n",
      "_________________________________________________________________\n",
      "conv2d_3 (Conv2D)            (None, 47, 47, 100)       180100    \n",
      "_________________________________________________________________\n",
      "max_pooling2d_3 (MaxPooling2 (None, 23, 23, 100)       0         \n",
      "_________________________________________________________________\n",
      "flatten_1 (Flatten)          (None, 52900)             0         \n",
      "_________________________________________________________________\n",
      "dropout_1 (Dropout)          (None, 52900)             0         \n",
      "_________________________________________________________________\n",
      "dense_2 (Dense)              (None, 50)                2645050   \n",
      "_________________________________________________________________\n",
      "dense_3 (Dense)              (None, 1)                 51        \n",
      "=================================================================\n",
      "Total params: 2,827,201\n",
      "Trainable params: 2,827,201\n",
      "Non-trainable params: 0\n",
      "_________________________________________________________________\n"
     ]
    }
   ],
   "source": [
    "#summary\n",
    "model.summary()"
   ]
  },
  {
   "cell_type": "code",
   "execution_count": 26,
   "metadata": {
    "colab": {},
    "colab_type": "code",
    "id": "o1xahe4jn_u2"
   },
   "outputs": [],
   "source": [
    "model.compile(optimizer='adam',loss = 'binary_crossentropy',metrics = ['accuracy'])"
   ]
  },
  {
   "cell_type": "markdown",
   "metadata": {
    "colab_type": "text",
    "id": "G3jj8qY3VuXp"
   },
   "source": [
    "### Model Training and Evaluation"
   ]
  },
  {
   "cell_type": "code",
   "execution_count": 27,
   "metadata": {
    "colab": {
     "base_uri": "https://localhost:8080/",
     "height": 370
    },
    "colab_type": "code",
    "id": "OoPNeUYnpLp5",
    "outputId": "9f3c0159-79cd-4e9e-e23a-c99d02ff7ea4",
    "scrolled": true
   },
   "outputs": [
    {
     "name": "stdout",
     "output_type": "stream",
     "text": [
      "Train on 1238 samples, validate on 138 samples\n",
      "Epoch 1/10\n",
      "1238/1238 [==============================] - 89s 72ms/sample - loss: 0.6845 - accuracy: 0.6042 - val_loss: 0.5769 - val_accuracy: 0.7536\n",
      "Epoch 2/10\n",
      "1238/1238 [==============================] - 85s 69ms/sample - loss: 0.4791 - accuracy: 0.7722 - val_loss: 0.4115 - val_accuracy: 0.8623\n",
      "Epoch 3/10\n",
      "1238/1238 [==============================] - 86s 70ms/sample - loss: 0.3303 - accuracy: 0.8643 - val_loss: 0.2632 - val_accuracy: 0.8841\n",
      "Epoch 4/10\n",
      "1238/1238 [==============================] - 83s 67ms/sample - loss: 0.2170 - accuracy: 0.9208 - val_loss: 0.2066 - val_accuracy: 0.9275\n",
      "Epoch 5/10\n",
      "1238/1238 [==============================] - 81s 65ms/sample - loss: 0.1700 - accuracy: 0.9394 - val_loss: 0.1722 - val_accuracy: 0.9348\n",
      "Epoch 6/10\n",
      "1238/1238 [==============================] - 82s 66ms/sample - loss: 0.1366 - accuracy: 0.9540 - val_loss: 0.1752 - val_accuracy: 0.9348\n",
      "Epoch 7/10\n",
      "1238/1238 [==============================] - 82s 66ms/sample - loss: 0.1230 - accuracy: 0.9612 - val_loss: 0.1360 - val_accuracy: 0.9783\n",
      "Epoch 8/10\n",
      "1238/1238 [==============================] - 83s 67ms/sample - loss: 0.0753 - accuracy: 0.9766 - val_loss: 0.1545 - val_accuracy: 0.9493\n",
      "Epoch 9/10\n",
      "1238/1238 [==============================] - 83s 67ms/sample - loss: 0.0632 - accuracy: 0.9798 - val_loss: 0.1368 - val_accuracy: 0.9565\n",
      "Epoch 10/10\n",
      "1238/1238 [==============================] - 82s 66ms/sample - loss: 0.0507 - accuracy: 0.9855 - val_loss: 0.1524 - val_accuracy: 0.9493\n"
     ]
    }
   ],
   "source": [
    "# BATCH_SIZE = 32\n",
    "EPOCHS = 10\n",
    "history=model.fit(X_train,y_train,epochs=EPOCHS, validation_data = (X_test,y_test)) #,callbacks=[checkpoint]"
   ]
  },
  {
   "cell_type": "markdown",
   "metadata": {
    "colab_type": "text",
    "id": "0AtwmiHKVuXu"
   },
   "source": [
    "### Save the model"
   ]
  },
  {
   "cell_type": "code",
   "execution_count": 28,
   "metadata": {
    "colab": {},
    "colab_type": "code",
    "id": "uIEsqxmrt8W4"
   },
   "outputs": [],
   "source": [
    "mask = 'model.h5'\n",
    "path = 'Replace the path with where you want to save your model' + '/' + mask\n"
   ]
  },
  {
   "cell_type": "code",
   "execution_count": 29,
   "metadata": {
    "colab": {},
    "colab_type": "code",
    "id": "b9EYIqFn9rqg"
   },
   "outputs": [],
   "source": [
    "#save the model\n",
    "model.save('/content/drive/My Drive/FACE MASK/mask.h5')"
   ]
  },
  {
   "cell_type": "code",
   "execution_count": null,
   "metadata": {
    "colab": {},
    "colab_type": "code",
    "id": "6-MvHXq8-Htf"
   },
   "outputs": [],
   "source": [
    "\n",
    "\n"
   ]
  }
 ],
 "metadata": {
  "accelerator": "GPU",
  "colab": {
   "collapsed_sections": [],
   "name": "01) Preprocessing and Model Building.ipynb",
   "provenance": [],
   "toc_visible": true
  },
  "kernelspec": {
   "display_name": "Python 3",
   "language": "python",
   "name": "python3"
  },
  "language_info": {
   "codemirror_mode": {
    "name": "ipython",
    "version": 3
   },
   "file_extension": ".py",
   "mimetype": "text/x-python",
   "name": "python",
   "nbconvert_exporter": "python",
   "pygments_lexer": "ipython3",
   "version": "3.7.3"
  }
 },
 "nbformat": 4,
 "nbformat_minor": 1
}
